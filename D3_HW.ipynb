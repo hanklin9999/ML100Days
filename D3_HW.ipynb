{
 "cells": [
  {
   "cell_type": "markdown",
   "metadata": {
    "id": "rY2oyzUo2wKZ"
   },
   "source": [
    "作業目標:<br>\n",
    "嘗試練習log的函式並應用<br>\n",
    "作業重點:<br>\n",
    "學員需要複習log的轉換方式<br>\n",
    "熟悉運用指數函數以及對數函數"
   ]
  },
  {
   "cell_type": "markdown",
   "metadata": {
    "id": "Esjhs7zz2y95"
   },
   "source": [
    "題目:<br>\n",
    "運用投影片中的分貝公式回答下列問題。<br>\n",
    "1.正常的談話的聲壓為20000微巴斯卡，請問多少分貝?<br>\n",
    "2.30分貝的聲壓會是50分貝的幾倍?\n"
   ]
  },
  {
   "cell_type": "code",
   "execution_count": 1,
   "metadata": {
    "id": "SKVoN9E82yQi"
   },
   "outputs": [],
   "source": [
    "import numpy as np "
   ]
  },
  {
   "cell_type": "code",
   "execution_count": 4,
   "metadata": {
    "id": "knBzIEbisYO_"
   },
   "outputs": [
    {
     "name": "stdout",
     "output_type": "stream",
     "text": [
      "14.35719083989254\n"
     ]
    }
   ],
   "source": [
    "#1.正常的談話的聲壓為20000微巴斯卡，請問多少分貝?\n",
    "#請寫下程式\n",
    "V1 = 20000\n",
    "V0 = 20\n",
    "Gb1=10*np.log10(V1)/np.log(V0)\n",
    "print(Gb1)"
   ]
  },
  {
   "cell_type": "code",
   "execution_count": null,
   "metadata": {
    "id": "5Vknqg8esbl_"
   },
   "outputs": [],
   "source": [
    "#2.30分貝的聲壓會是50分貝的幾倍?\n",
    "#公式移項過後可以得到 V1 = ?\n",
    "#請寫下程式\n",
    "#聲壓標準V0=20\n",
    "#令V1、V2為2.3、50分貝下之聲壓\n",
    "#2.3分貝=20*log10(V1/20)\n",
    "#50分貝=20*log10(V2/20)\n",
    "#所求=log10(V2/V1)"
   ]
  },
  {
   "cell_type": "code",
   "execution_count": 6,
   "metadata": {
    "id": "LjGnv4Q-1t7u"
   },
   "outputs": [
    {
     "name": "stdout",
     "output_type": "stream",
     "text": [
      "242.6610095082416\n"
     ]
    }
   ],
   "source": [
    "\n",
    "V1=20*10**(2.3/20)\n",
    "V2=20*10**(50/20)\n",
    "print(V2/V1)"
   ]
  },
  {
   "cell_type": "code",
   "execution_count": null,
   "metadata": {},
   "outputs": [],
   "source": [
    "#242.661倍"
   ]
  }
 ],
 "metadata": {
  "colab": {
   "authorship_tag": "ABX9TyNuy8nFyZsCqfcHKKs2ys9H",
   "collapsed_sections": [],
   "name": "作業_Hong題目.ipynb",
   "provenance": []
  },
  "kernelspec": {
   "display_name": "Python 3",
   "language": "python",
   "name": "python3"
  },
  "language_info": {
   "codemirror_mode": {
    "name": "ipython",
    "version": 3
   },
   "file_extension": ".py",
   "mimetype": "text/x-python",
   "name": "python",
   "nbconvert_exporter": "python",
   "pygments_lexer": "ipython3",
   "version": "3.8.5"
  }
 },
 "nbformat": 4,
 "nbformat_minor": 1
}
